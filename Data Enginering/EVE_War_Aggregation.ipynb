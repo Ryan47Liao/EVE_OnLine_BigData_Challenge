{
 "cells": [
  {
   "cell_type": "code",
   "execution_count": 1,
   "metadata": {},
   "outputs": [],
   "source": [
    "import os\n",
    "import pandas as pd\n",
    "import json\n",
    "import tqdm\n",
    "import numpy as np\n",
    "#\n",
    "from multiprocessing import Pool\n",
    "from threading import Thread\n",
    "from multiprocessing import Process\n",
    "from functools import reduce\n",
    "#\n",
    "from js_flat_tools import df_slicer,FLAT_JS"
   ]
  },
  {
   "cell_type": "code",
   "execution_count": 9,
   "metadata": {},
   "outputs": [],
   "source": [
    "import datetime"
   ]
  },
  {
   "cell_type": "code",
   "execution_count": 12,
   "metadata": {},
   "outputs": [
    {
     "data": {
      "text/plain": [
       "datetime.datetime(2022, 5, 8, 11, 11, 9, 587744)"
      ]
     },
     "execution_count": 12,
     "metadata": {},
     "output_type": "execute_result"
    }
   ],
   "source": [
    "datetime.datetime.now()"
   ]
  },
  {
   "cell_type": "code",
   "execution_count": 3,
   "metadata": {},
   "outputs": [],
   "source": [
    "def Load_War(year,war_id,folder_path = 'E:\\Data\\Eve-Online\\Wars'):\n",
    "    df = pd.DataFrame()\n",
    "    idx = 0\n",
    "    JS_paths =  os.listdir(folder_path+f'\\\\wars-{year}\\\\wars\\\\{war_id}\\\\killmails')\n",
    "    for idx in tqdm.trange(len(JS_paths)):\n",
    "        file_path = folder_path+f'\\\\wars-2016\\\\wars\\\\{war_id}\\\\killmails\\\\' + JS_paths[idx]\n",
    "        #print(file_path)\n",
    "        with open(file_path) as file:\n",
    "            try:\n",
    "                J = json.load(file)\n",
    "                df = pd.concat([df,pd.json_normalize(J)])\n",
    "            except:\n",
    "                pass \n",
    "        idx +=1 \n",
    "    df.to_csv(f'E:\\\\Data\\\\Eve-Online\\\\Wars_Csv\\\\{year}war_{war_id}.csv')"
   ]
  },
  {
   "cell_type": "code",
   "execution_count": 6,
   "metadata": {},
   "outputs": [],
   "source": [
    "def Load_Raid(Path_list,year):\n",
    "    df = pd.DataFrame()\n",
    "    idx = 0\n",
    "    for path in tqdm.tqdm(Path_list):\n",
    "        file_path = f\"E:\\Data\\Eve-Online\\Wars\\wars-{year}\\wars\\{path}\"\n",
    "        with open(file_path) as file:\n",
    "            try:\n",
    "                J = json.load(file)\n",
    "                df = pd.concat([df,pd.json_normalize(J)])\n",
    "            except:\n",
    "                pass \n",
    "        idx +=1 \n",
    "    df.to_csv(f'E:\\\\Data\\\\Eve-Online\\\\Wars_Csv\\\\{year}war_RAID.csv')"
   ]
  },
  {
   "cell_type": "code",
   "execution_count": 14,
   "metadata": {},
   "outputs": [
    {
     "name": "stderr",
     "output_type": "stream",
     "text": [
      "100%|██████████| 15712/15712 [05:02<00:00, 51.93it/s]  \n",
      "100%|██████████| 12754/12754 [04:35<00:00, 46.23it/s] \n",
      "100%|██████████| 8866/8866 [07:42<00:00, 19.18it/s]   \n"
     ]
    }
   ],
   "source": [
    "#Load Wars\n",
    "for year in [2017,2018,2019]:\n",
    "    Existing_Wars = [ i.split('.')[0].split('_')[1] for i in os.listdir(f'E:\\Data\\Eve-Online\\Wars_Csv')]\n",
    "    Wars_ = [ i for i in os.listdir(f'E:\\Data\\Eve-Online\\Wars\\wars-{year}\\wars') if '.json' not in i]\n",
    "    Wars = [ i for i in Wars_ if i not in Existing_Wars]\n",
    "    for war_id in tqdm.tqdm(Wars):\n",
    "        try:\n",
    "            Load_War(year,war_id)\n",
    "        except FileNotFoundError as e:\n",
    "            print(e)"
   ]
  },
  {
   "cell_type": "code",
   "execution_count": 7,
   "metadata": {},
   "outputs": [
    {
     "name": "stderr",
     "output_type": "stream",
     "text": [
      "100%|██████████| 64763/64763 [07:30<00:00, 143.64it/s]\n",
      "100%|██████████| 56961/56961 [05:17<00:00, 179.23it/s]\n",
      "100%|██████████| 55380/55380 [05:27<00:00, 169.16it/s]\n",
      "100%|██████████| 36093/36093 [02:17<00:00, 262.23it/s]\n"
     ]
    }
   ],
   "source": [
    "#Load Raids\n",
    "for year in [2016,2017,2018,2019]:\n",
    "    #Existing_Wars = [ i.split('.')[0].split('_')[1] for i in os.listdir(f'E:\\Data\\Eve-Online\\Wars_Csv')]\n",
    "    Wars_ = [ i for i in os.listdir(f'E:\\Data\\Eve-Online\\Wars\\wars-{year}\\wars') if '.json' in i]\n",
    "    #Wars = [ i for i in Wars_ if i not in Existing_Wars]\n",
    "    Load_Raid(Wars_,year)"
   ]
  },
  {
   "cell_type": "markdown",
   "metadata": {},
   "source": [
    "### Aggregate Files with same year"
   ]
  },
  {
   "cell_type": "code",
   "execution_count": 13,
   "metadata": {},
   "outputs": [
    {
     "name": "stderr",
     "output_type": "stream",
     "text": [
      "100%|██████████| 19101/19101 [08:07<00:00, 39.20it/s]\n",
      "100%|██████████| 15713/15713 [04:04<00:00, 64.29it/s]\n",
      "100%|██████████| 12755/12755 [02:55<00:00, 72.70it/s]\n",
      "100%|██████████| 8867/8867 [03:50<00:00, 38.49it/s] \n"
     ]
    }
   ],
   "source": [
    "for year in [2016,2017,2018,2019]:\n",
    "    Wars_ = [ i for i in os.listdir(f'E:\\Data\\Eve-Online\\Wars_Csv') if str(year)+'war' in i]\n",
    "    out = pd.DataFrame()\n",
    "    for file in tqdm.tqdm(Wars_):\n",
    "        file_path = f'E:\\Data\\Eve-Online\\Wars_Csv\\{file}'\n",
    "        df_ = pd.read_csv(file_path,index_col=0)\n",
    "        out = pd.concat([out,df_])\n",
    "    out.to_csv(f'E:\\Data\\Eve-Online\\{year}_wars.csv' ,index =False)"
   ]
  },
  {
   "cell_type": "code",
   "execution_count": 15,
   "metadata": {},
   "outputs": [
    {
     "data": {
      "text/plain": [
       "Index(['attackers', 'killmail_id', 'killmail_time', 'solar_system_id',\n",
       "       'war_id', 'killmail_hash', 'http_last_modified', 'victim.character_id',\n",
       "       'victim.corporation_id', 'victim.damage_taken', 'victim.items',\n",
       "       'victim.position.x', 'victim.position.y', 'victim.position.z',\n",
       "       'victim.ship_type_id', 'victim.alliance_id', 'moon_id',\n",
       "       'victim.faction_id', 'allies', 'declared', 'finished', 'id', 'mutual',\n",
       "       'open_for_allies', 'retracted', 'started', 'aggressor.corporation_id',\n",
       "       'aggressor.isk_destroyed', 'aggressor.ships_killed',\n",
       "       'defender.corporation_id', 'defender.isk_destroyed',\n",
       "       'defender.ships_killed', 'defender.alliance_id',\n",
       "       'aggressor.alliance_id'],\n",
       "      dtype='object')"
      ]
     },
     "execution_count": 15,
     "metadata": {},
     "output_type": "execute_result"
    }
   ],
   "source": [
    "out.columns"
   ]
  },
  {
   "cell_type": "code",
   "execution_count": 18,
   "metadata": {},
   "outputs": [
    {
     "data": {
      "text/html": [
       "<div>\n",
       "<style scoped>\n",
       "    .dataframe tbody tr th:only-of-type {\n",
       "        vertical-align: middle;\n",
       "    }\n",
       "\n",
       "    .dataframe tbody tr th {\n",
       "        vertical-align: top;\n",
       "    }\n",
       "\n",
       "    .dataframe thead th {\n",
       "        text-align: right;\n",
       "    }\n",
       "</style>\n",
       "<table border=\"1\" class=\"dataframe\">\n",
       "  <thead>\n",
       "    <tr style=\"text-align: right;\">\n",
       "      <th></th>\n",
       "      <th>allies</th>\n",
       "      <th>declared</th>\n",
       "      <th>finished</th>\n",
       "      <th>id</th>\n",
       "      <th>mutual</th>\n",
       "      <th>open_for_allies</th>\n",
       "      <th>retracted</th>\n",
       "      <th>started</th>\n",
       "      <th>aggressor.corporation_id</th>\n",
       "      <th>aggressor.isk_destroyed</th>\n",
       "      <th>aggressor.ships_killed</th>\n",
       "      <th>defender.corporation_id</th>\n",
       "      <th>defender.isk_destroyed</th>\n",
       "      <th>defender.ships_killed</th>\n",
       "      <th>defender.alliance_id</th>\n",
       "      <th>aggressor.alliance_id</th>\n",
       "    </tr>\n",
       "  </thead>\n",
       "  <tbody>\n",
       "    <tr>\n",
       "      <th>0</th>\n",
       "      <td>NaN</td>\n",
       "      <td>NaN</td>\n",
       "      <td>NaN</td>\n",
       "      <td>NaN</td>\n",
       "      <td>NaN</td>\n",
       "      <td>NaN</td>\n",
       "      <td>NaN</td>\n",
       "      <td>NaN</td>\n",
       "      <td>NaN</td>\n",
       "      <td>NaN</td>\n",
       "      <td>NaN</td>\n",
       "      <td>NaN</td>\n",
       "      <td>NaN</td>\n",
       "      <td>NaN</td>\n",
       "      <td>NaN</td>\n",
       "      <td>NaN</td>\n",
       "    </tr>\n",
       "    <tr>\n",
       "      <th>0</th>\n",
       "      <td>NaN</td>\n",
       "      <td>NaN</td>\n",
       "      <td>NaN</td>\n",
       "      <td>NaN</td>\n",
       "      <td>NaN</td>\n",
       "      <td>NaN</td>\n",
       "      <td>NaN</td>\n",
       "      <td>NaN</td>\n",
       "      <td>NaN</td>\n",
       "      <td>NaN</td>\n",
       "      <td>NaN</td>\n",
       "      <td>NaN</td>\n",
       "      <td>NaN</td>\n",
       "      <td>NaN</td>\n",
       "      <td>NaN</td>\n",
       "      <td>NaN</td>\n",
       "    </tr>\n",
       "    <tr>\n",
       "      <th>0</th>\n",
       "      <td>NaN</td>\n",
       "      <td>NaN</td>\n",
       "      <td>NaN</td>\n",
       "      <td>NaN</td>\n",
       "      <td>NaN</td>\n",
       "      <td>NaN</td>\n",
       "      <td>NaN</td>\n",
       "      <td>NaN</td>\n",
       "      <td>NaN</td>\n",
       "      <td>NaN</td>\n",
       "      <td>NaN</td>\n",
       "      <td>NaN</td>\n",
       "      <td>NaN</td>\n",
       "      <td>NaN</td>\n",
       "      <td>NaN</td>\n",
       "      <td>NaN</td>\n",
       "    </tr>\n",
       "    <tr>\n",
       "      <th>0</th>\n",
       "      <td>NaN</td>\n",
       "      <td>NaN</td>\n",
       "      <td>NaN</td>\n",
       "      <td>NaN</td>\n",
       "      <td>NaN</td>\n",
       "      <td>NaN</td>\n",
       "      <td>NaN</td>\n",
       "      <td>NaN</td>\n",
       "      <td>NaN</td>\n",
       "      <td>NaN</td>\n",
       "      <td>NaN</td>\n",
       "      <td>NaN</td>\n",
       "      <td>NaN</td>\n",
       "      <td>NaN</td>\n",
       "      <td>NaN</td>\n",
       "      <td>NaN</td>\n",
       "    </tr>\n",
       "    <tr>\n",
       "      <th>0</th>\n",
       "      <td>NaN</td>\n",
       "      <td>NaN</td>\n",
       "      <td>NaN</td>\n",
       "      <td>NaN</td>\n",
       "      <td>NaN</td>\n",
       "      <td>NaN</td>\n",
       "      <td>NaN</td>\n",
       "      <td>NaN</td>\n",
       "      <td>NaN</td>\n",
       "      <td>NaN</td>\n",
       "      <td>NaN</td>\n",
       "      <td>NaN</td>\n",
       "      <td>NaN</td>\n",
       "      <td>NaN</td>\n",
       "      <td>NaN</td>\n",
       "      <td>NaN</td>\n",
       "    </tr>\n",
       "    <tr>\n",
       "      <th>...</th>\n",
       "      <td>...</td>\n",
       "      <td>...</td>\n",
       "      <td>...</td>\n",
       "      <td>...</td>\n",
       "      <td>...</td>\n",
       "      <td>...</td>\n",
       "      <td>...</td>\n",
       "      <td>...</td>\n",
       "      <td>...</td>\n",
       "      <td>...</td>\n",
       "      <td>...</td>\n",
       "      <td>...</td>\n",
       "      <td>...</td>\n",
       "      <td>...</td>\n",
       "      <td>...</td>\n",
       "      <td>...</td>\n",
       "    </tr>\n",
       "    <tr>\n",
       "      <th>0</th>\n",
       "      <td>[]</td>\n",
       "      <td>2009-11-27T22:05:00Z</td>\n",
       "      <td>2019-02-13T12:02:00Z</td>\n",
       "      <td>96623.0</td>\n",
       "      <td>True</td>\n",
       "      <td>False</td>\n",
       "      <td>2019-02-12T12:02:00Z</td>\n",
       "      <td>2009-11-28T22:05:00Z</td>\n",
       "      <td>1.780746e+09</td>\n",
       "      <td>0.0</td>\n",
       "      <td>0.0</td>\n",
       "      <td>1.781631e+09</td>\n",
       "      <td>0.0</td>\n",
       "      <td>0.0</td>\n",
       "      <td>NaN</td>\n",
       "      <td>NaN</td>\n",
       "    </tr>\n",
       "    <tr>\n",
       "      <th>0</th>\n",
       "      <td>[]</td>\n",
       "      <td>2009-11-29T13:41:00Z</td>\n",
       "      <td>2019-02-13T11:50:00Z</td>\n",
       "      <td>96767.0</td>\n",
       "      <td>True</td>\n",
       "      <td>False</td>\n",
       "      <td>2019-02-12T11:50:00Z</td>\n",
       "      <td>2009-11-30T13:41:00Z</td>\n",
       "      <td>1.815164e+09</td>\n",
       "      <td>0.0</td>\n",
       "      <td>0.0</td>\n",
       "      <td>1.513802e+09</td>\n",
       "      <td>0.0</td>\n",
       "      <td>0.0</td>\n",
       "      <td>NaN</td>\n",
       "      <td>NaN</td>\n",
       "    </tr>\n",
       "    <tr>\n",
       "      <th>0</th>\n",
       "      <td>[]</td>\n",
       "      <td>2009-11-29T13:46:00Z</td>\n",
       "      <td>2019-02-13T11:50:00Z</td>\n",
       "      <td>96768.0</td>\n",
       "      <td>True</td>\n",
       "      <td>False</td>\n",
       "      <td>2019-02-12T11:50:00Z</td>\n",
       "      <td>2009-11-30T13:46:00Z</td>\n",
       "      <td>1.816250e+09</td>\n",
       "      <td>0.0</td>\n",
       "      <td>0.0</td>\n",
       "      <td>1.513802e+09</td>\n",
       "      <td>0.0</td>\n",
       "      <td>0.0</td>\n",
       "      <td>NaN</td>\n",
       "      <td>NaN</td>\n",
       "    </tr>\n",
       "    <tr>\n",
       "      <th>0</th>\n",
       "      <td>[]</td>\n",
       "      <td>2009-12-17T09:24:00Z</td>\n",
       "      <td>2019-02-13T11:50:00Z</td>\n",
       "      <td>98308.0</td>\n",
       "      <td>True</td>\n",
       "      <td>False</td>\n",
       "      <td>2019-02-12T11:50:00Z</td>\n",
       "      <td>2009-12-18T09:24:00Z</td>\n",
       "      <td>1.519212e+09</td>\n",
       "      <td>0.0</td>\n",
       "      <td>0.0</td>\n",
       "      <td>1.517408e+09</td>\n",
       "      <td>0.0</td>\n",
       "      <td>0.0</td>\n",
       "      <td>NaN</td>\n",
       "      <td>NaN</td>\n",
       "    </tr>\n",
       "    <tr>\n",
       "      <th>0</th>\n",
       "      <td>[]</td>\n",
       "      <td>2009-12-19T07:17:00Z</td>\n",
       "      <td>2019-02-13T11:54:00Z</td>\n",
       "      <td>98485.0</td>\n",
       "      <td>True</td>\n",
       "      <td>False</td>\n",
       "      <td>2019-02-12T11:54:00Z</td>\n",
       "      <td>2009-12-20T07:17:00Z</td>\n",
       "      <td>1.536614e+08</td>\n",
       "      <td>0.0</td>\n",
       "      <td>0.0</td>\n",
       "      <td>4.702210e+08</td>\n",
       "      <td>0.0</td>\n",
       "      <td>0.0</td>\n",
       "      <td>NaN</td>\n",
       "      <td>NaN</td>\n",
       "    </tr>\n",
       "  </tbody>\n",
       "</table>\n",
       "<p>259059 rows × 16 columns</p>\n",
       "</div>"
      ],
      "text/plain": [
       "   allies              declared              finished       id mutual  \\\n",
       "0     NaN                   NaN                   NaN      NaN    NaN   \n",
       "0     NaN                   NaN                   NaN      NaN    NaN   \n",
       "0     NaN                   NaN                   NaN      NaN    NaN   \n",
       "0     NaN                   NaN                   NaN      NaN    NaN   \n",
       "0     NaN                   NaN                   NaN      NaN    NaN   \n",
       "..    ...                   ...                   ...      ...    ...   \n",
       "0      []  2009-11-27T22:05:00Z  2019-02-13T12:02:00Z  96623.0   True   \n",
       "0      []  2009-11-29T13:41:00Z  2019-02-13T11:50:00Z  96767.0   True   \n",
       "0      []  2009-11-29T13:46:00Z  2019-02-13T11:50:00Z  96768.0   True   \n",
       "0      []  2009-12-17T09:24:00Z  2019-02-13T11:50:00Z  98308.0   True   \n",
       "0      []  2009-12-19T07:17:00Z  2019-02-13T11:54:00Z  98485.0   True   \n",
       "\n",
       "   open_for_allies             retracted               started  \\\n",
       "0              NaN                   NaN                   NaN   \n",
       "0              NaN                   NaN                   NaN   \n",
       "0              NaN                   NaN                   NaN   \n",
       "0              NaN                   NaN                   NaN   \n",
       "0              NaN                   NaN                   NaN   \n",
       "..             ...                   ...                   ...   \n",
       "0            False  2019-02-12T12:02:00Z  2009-11-28T22:05:00Z   \n",
       "0            False  2019-02-12T11:50:00Z  2009-11-30T13:41:00Z   \n",
       "0            False  2019-02-12T11:50:00Z  2009-11-30T13:46:00Z   \n",
       "0            False  2019-02-12T11:50:00Z  2009-12-18T09:24:00Z   \n",
       "0            False  2019-02-12T11:54:00Z  2009-12-20T07:17:00Z   \n",
       "\n",
       "    aggressor.corporation_id  aggressor.isk_destroyed  aggressor.ships_killed  \\\n",
       "0                        NaN                      NaN                     NaN   \n",
       "0                        NaN                      NaN                     NaN   \n",
       "0                        NaN                      NaN                     NaN   \n",
       "0                        NaN                      NaN                     NaN   \n",
       "0                        NaN                      NaN                     NaN   \n",
       "..                       ...                      ...                     ...   \n",
       "0               1.780746e+09                      0.0                     0.0   \n",
       "0               1.815164e+09                      0.0                     0.0   \n",
       "0               1.816250e+09                      0.0                     0.0   \n",
       "0               1.519212e+09                      0.0                     0.0   \n",
       "0               1.536614e+08                      0.0                     0.0   \n",
       "\n",
       "    defender.corporation_id  defender.isk_destroyed  defender.ships_killed  \\\n",
       "0                       NaN                     NaN                    NaN   \n",
       "0                       NaN                     NaN                    NaN   \n",
       "0                       NaN                     NaN                    NaN   \n",
       "0                       NaN                     NaN                    NaN   \n",
       "0                       NaN                     NaN                    NaN   \n",
       "..                      ...                     ...                    ...   \n",
       "0              1.781631e+09                     0.0                    0.0   \n",
       "0              1.513802e+09                     0.0                    0.0   \n",
       "0              1.513802e+09                     0.0                    0.0   \n",
       "0              1.517408e+09                     0.0                    0.0   \n",
       "0              4.702210e+08                     0.0                    0.0   \n",
       "\n",
       "    defender.alliance_id  aggressor.alliance_id  \n",
       "0                    NaN                    NaN  \n",
       "0                    NaN                    NaN  \n",
       "0                    NaN                    NaN  \n",
       "0                    NaN                    NaN  \n",
       "0                    NaN                    NaN  \n",
       "..                   ...                    ...  \n",
       "0                    NaN                    NaN  \n",
       "0                    NaN                    NaN  \n",
       "0                    NaN                    NaN  \n",
       "0                    NaN                    NaN  \n",
       "0                    NaN                    NaN  \n",
       "\n",
       "[259059 rows x 16 columns]"
      ]
     },
     "execution_count": 18,
     "metadata": {},
     "output_type": "execute_result"
    }
   ],
   "source": [
    "out[['allies', 'declared', 'finished', 'id', 'mutual',\n",
    "       'open_for_allies', 'retracted', 'started', 'aggressor.corporation_id',\n",
    "       'aggressor.isk_destroyed', 'aggressor.ships_killed',\n",
    "       'defender.corporation_id', 'defender.isk_destroyed',\n",
    "       'defender.ships_killed', 'defender.alliance_id',\n",
    "       'aggressor.alliance_id']]"
   ]
  },
  {
   "cell_type": "code",
   "execution_count": 37,
   "metadata": {},
   "outputs": [
    {
     "data": {
      "text/plain": [
       "attackers                   0.000000\n",
       "killmail_id                 0.000000\n",
       "killmail_time               0.000000\n",
       "solar_system_id             0.000000\n",
       "war_id                      0.000000\n",
       "killmail_hash               0.000000\n",
       "http_last_modified          0.000000\n",
       "victim.character_id         0.057336\n",
       "victim.corporation_id       0.000000\n",
       "victim.damage_taken         0.000000\n",
       "victim.items                0.000000\n",
       "victim.position.x           0.000000\n",
       "victim.position.y           0.000000\n",
       "victim.position.z           0.000000\n",
       "victim.ship_type_id         0.000000\n",
       "victim.alliance_id          0.090346\n",
       "moon_id                     0.989918\n",
       "victim.faction_id           0.992909\n",
       "allies                      1.000000\n",
       "declared                    1.000000\n",
       "finished                    1.000000\n",
       "id                          1.000000\n",
       "mutual                      1.000000\n",
       "open_for_allies             1.000000\n",
       "retracted                   1.000000\n",
       "started                     1.000000\n",
       "aggressor.corporation_id    1.000000\n",
       "aggressor.isk_destroyed     1.000000\n",
       "aggressor.ships_killed      1.000000\n",
       "defender.corporation_id     1.000000\n",
       "defender.isk_destroyed      1.000000\n",
       "defender.ships_killed       1.000000\n",
       "defender.alliance_id        1.000000\n",
       "aggressor.alliance_id       1.000000\n",
       "dtype: float64"
      ]
     },
     "execution_count": 37,
     "metadata": {},
     "output_type": "execute_result"
    }
   ],
   "source": [
    "type_a = out[out['attackers'].apply(lambda x: str(x) != 'nan')]\n",
    "type_a.isna().sum()/type_a.shape[0]"
   ]
  },
  {
   "cell_type": "code",
   "execution_count": 36,
   "metadata": {},
   "outputs": [
    {
     "data": {
      "text/plain": [
       "attackers                   1.000000\n",
       "killmail_id                 1.000000\n",
       "killmail_time               1.000000\n",
       "solar_system_id             1.000000\n",
       "war_id                      0.000000\n",
       "killmail_hash               1.000000\n",
       "http_last_modified          0.000000\n",
       "victim.character_id         1.000000\n",
       "victim.corporation_id       1.000000\n",
       "victim.damage_taken         1.000000\n",
       "victim.items                1.000000\n",
       "victim.position.x           1.000000\n",
       "victim.position.y           1.000000\n",
       "victim.position.z           1.000000\n",
       "victim.ship_type_id         1.000000\n",
       "victim.alliance_id          1.000000\n",
       "moon_id                     1.000000\n",
       "victim.faction_id           1.000000\n",
       "allies                      0.000000\n",
       "declared                    0.000000\n",
       "finished                    0.000028\n",
       "id                          0.000000\n",
       "mutual                      0.000000\n",
       "open_for_allies             0.000000\n",
       "retracted                   0.000028\n",
       "started                     0.000000\n",
       "aggressor.corporation_id    0.393123\n",
       "aggressor.isk_destroyed     0.000000\n",
       "aggressor.ships_killed      0.000000\n",
       "defender.corporation_id     0.261159\n",
       "defender.isk_destroyed      0.000000\n",
       "defender.ships_killed       0.000000\n",
       "defender.alliance_id        0.738841\n",
       "aggressor.alliance_id       0.606877\n",
       "dtype: float64"
      ]
     },
     "execution_count": 36,
     "metadata": {},
     "output_type": "execute_result"
    }
   ],
   "source": [
    "type_b = out[out['attackers'].apply(lambda x: str(x) == 'nan')]\n",
    "type_b.isna().sum()/type_b.shape[0]"
   ]
  },
  {
   "cell_type": "markdown",
   "metadata": {},
   "source": [
    "### Conclusion\n",
    "After exporing the data composition, it seems that 2 types of data were mixed. "
   ]
  },
  {
   "cell_type": "code",
   "execution_count": 38,
   "metadata": {},
   "outputs": [
    {
     "name": "stderr",
     "output_type": "stream",
     "text": [
      "C:\\Users\\18066\\AppData\\Local\\Temp\\ipykernel_36904\\4135360281.py:3: DtypeWarning: Columns (0,2,5,11,18,19,20,22,23,24,25) have mixed types. Specify dtype option on import or set low_memory=False.\n",
      "  df_ = pd.read_csv(f'E:\\Data\\Eve-Online\\{year}_wars.csv')\n",
      "C:\\Users\\18066\\AppData\\Local\\Temp\\ipykernel_36904\\4135360281.py:3: DtypeWarning: Columns (0,2,5,10,18,19,20,22,23,24,25) have mixed types. Specify dtype option on import or set low_memory=False.\n",
      "  df_ = pd.read_csv(f'E:\\Data\\Eve-Online\\{year}_wars.csv')\n",
      "C:\\Users\\18066\\AppData\\Local\\Temp\\ipykernel_36904\\4135360281.py:3: DtypeWarning: Columns (0,2,5,10,18,19,20,22,23,24,25) have mixed types. Specify dtype option on import or set low_memory=False.\n",
      "  df_ = pd.read_csv(f'E:\\Data\\Eve-Online\\{year}_wars.csv')\n",
      "C:\\Users\\18066\\AppData\\Local\\Temp\\ipykernel_36904\\4135360281.py:3: DtypeWarning: Columns (0,2,5,10,18,19,20,22,23,24,25) have mixed types. Specify dtype option on import or set low_memory=False.\n",
      "  df_ = pd.read_csv(f'E:\\Data\\Eve-Online\\{year}_wars.csv')\n"
     ]
    }
   ],
   "source": [
    "df_all = pd.DataFrame()\n",
    "for year in [2016,2017,2018,2019]:\n",
    "    df_ = pd.read_csv(f'E:\\Data\\Eve-Online\\{year}_wars.csv')\n",
    "    df_all = pd.concat([df_all,df_])"
   ]
  },
  {
   "cell_type": "code",
   "execution_count": 42,
   "metadata": {},
   "outputs": [],
   "source": [
    "type_a = df_all[df_all['attackers'].apply(lambda x: str(x) != 'nan')]"
   ]
  },
  {
   "cell_type": "code",
   "execution_count": 50,
   "metadata": {},
   "outputs": [
    {
     "data": {
      "text/plain": [
       "attackers                   0.000000\n",
       "killmail_id                 0.000000\n",
       "killmail_time               0.000000\n",
       "solar_system_id             0.000000\n",
       "war_id                      0.000000\n",
       "killmail_hash               0.000000\n",
       "http_last_modified          0.000000\n",
       "victim.alliance_id          0.219212\n",
       "victim.character_id         0.078330\n",
       "victim.corporation_id       0.000000\n",
       "victim.damage_taken         0.000000\n",
       "victim.items                0.000000\n",
       "victim.position.x           0.000000\n",
       "victim.position.y           0.000000\n",
       "victim.position.z           0.000000\n",
       "victim.ship_type_id         0.000000\n",
       "moon_id                     0.958051\n",
       "victim.faction_id           0.974436\n",
       "allies                      1.000000\n",
       "declared                    1.000000\n",
       "finished                    1.000000\n",
       "id                          1.000000\n",
       "mutual                      1.000000\n",
       "open_for_allies             1.000000\n",
       "retracted                   1.000000\n",
       "started                     1.000000\n",
       "aggressor.corporation_id    1.000000\n",
       "aggressor.isk_destroyed     1.000000\n",
       "aggressor.ships_killed      1.000000\n",
       "defender.corporation_id     1.000000\n",
       "defender.isk_destroyed      1.000000\n",
       "defender.ships_killed       1.000000\n",
       "defender.alliance_id        1.000000\n",
       "aggressor.alliance_id       1.000000\n",
       "dtype: float64"
      ]
     },
     "execution_count": 50,
     "metadata": {},
     "output_type": "execute_result"
    }
   ],
   "source": [
    "temp = type_a.isna().sum()/type_a.shape[0]\n",
    "temp"
   ]
  },
  {
   "cell_type": "code",
   "execution_count": 51,
   "metadata": {},
   "outputs": [],
   "source": [
    "feature_keep = list(temp[temp == 0].keys()) + ['victim.alliance_id','victim.character_id']"
   ]
  },
  {
   "cell_type": "code",
   "execution_count": 56,
   "metadata": {},
   "outputs": [],
   "source": [
    "df_wars = type_a[feature_keep]"
   ]
  },
  {
   "cell_type": "code",
   "execution_count": 84,
   "metadata": {},
   "outputs": [
    {
     "name": "stderr",
     "output_type": "stream",
     "text": [
      "100%|██████████| 837851/837851 [11:32:36<00:00, 20.16it/s]  \n"
     ]
    }
   ],
   "source": [
    "df_attackerinfo = pd.DataFrame()\n",
    "for idx in tqdm.trange(df_wars.shape[0]):\n",
    "    row = df_wars.iloc[idx]\n",
    "    JS_str = row['attackers']\n",
    "    kill_mail_id = row['killmail_id']\n",
    "    js_dct_lst = eval(JS_str)\n",
    "    for dct in js_dct_lst:\n",
    "        dct['killmail_id'] = kill_mail_id\n",
    "    df_temp = pd.json_normalize(js_dct_lst)\n",
    "    df_attackerinfo = pd.concat([df_attackerinfo,df_temp])"
   ]
  },
  {
   "cell_type": "code",
   "execution_count": 18,
   "metadata": {},
   "outputs": [],
   "source": [
    "df_attackerinfo.to_csv('E:\\\\Data\\\\Eve-Online\\\\attackers.csv',index=False)"
   ]
  },
  {
   "cell_type": "code",
   "execution_count": 45,
   "metadata": {},
   "outputs": [],
   "source": [
    "#df_wars.to_csv('E:\\\\Data\\\\Eve-Online\\\\WARS.csv')\n",
    "df_wars = pd.read_csv('E:\\Data\\Eve-Online\\WARS.csv',index_col=0)"
   ]
  },
  {
   "cell_type": "code",
   "execution_count": 112,
   "metadata": {},
   "outputs": [
    {
     "data": {
      "text/html": [
       "<div>\n",
       "<style scoped>\n",
       "    .dataframe tbody tr th:only-of-type {\n",
       "        vertical-align: middle;\n",
       "    }\n",
       "\n",
       "    .dataframe tbody tr th {\n",
       "        vertical-align: top;\n",
       "    }\n",
       "\n",
       "    .dataframe thead th {\n",
       "        text-align: right;\n",
       "    }\n",
       "</style>\n",
       "<table border=\"1\" class=\"dataframe\">\n",
       "  <thead>\n",
       "    <tr style=\"text-align: right;\">\n",
       "      <th></th>\n",
       "      <th>alliance_id</th>\n",
       "      <th>character_id</th>\n",
       "      <th>damage_done</th>\n",
       "      <th>final_blow</th>\n",
       "      <th>security_status</th>\n",
       "      <th>ship_type_id</th>\n",
       "      <th>weapon_type_id</th>\n",
       "      <th>killmail_id</th>\n",
       "      <th>faction_id</th>\n",
       "    </tr>\n",
       "    <tr>\n",
       "      <th>corporation_id</th>\n",
       "      <th></th>\n",
       "      <th></th>\n",
       "      <th></th>\n",
       "      <th></th>\n",
       "      <th></th>\n",
       "      <th></th>\n",
       "      <th></th>\n",
       "      <th></th>\n",
       "      <th></th>\n",
       "    </tr>\n",
       "  </thead>\n",
       "  <tbody>\n",
       "    <tr>\n",
       "      <th>9.838831e+07</th>\n",
       "      <td>349361</td>\n",
       "      <td>348949</td>\n",
       "      <td>349633</td>\n",
       "      <td>349633</td>\n",
       "      <td>349633</td>\n",
       "      <td>345436</td>\n",
       "      <td>348949</td>\n",
       "      <td>349633</td>\n",
       "      <td>0</td>\n",
       "    </tr>\n",
       "    <tr>\n",
       "      <th>9.855851e+07</th>\n",
       "      <td>264745</td>\n",
       "      <td>264741</td>\n",
       "      <td>264745</td>\n",
       "      <td>264745</td>\n",
       "      <td>264745</td>\n",
       "      <td>262652</td>\n",
       "      <td>264741</td>\n",
       "      <td>264745</td>\n",
       "      <td>0</td>\n",
       "    </tr>\n",
       "    <tr>\n",
       "      <th>3.544952e+08</th>\n",
       "      <td>179871</td>\n",
       "      <td>179698</td>\n",
       "      <td>179880</td>\n",
       "      <td>179880</td>\n",
       "      <td>179880</td>\n",
       "      <td>177262</td>\n",
       "      <td>179698</td>\n",
       "      <td>179880</td>\n",
       "      <td>0</td>\n",
       "    </tr>\n",
       "    <tr>\n",
       "      <th>9.837086e+07</th>\n",
       "      <td>102531</td>\n",
       "      <td>102530</td>\n",
       "      <td>102535</td>\n",
       "      <td>102535</td>\n",
       "      <td>102535</td>\n",
       "      <td>100860</td>\n",
       "      <td>102530</td>\n",
       "      <td>102535</td>\n",
       "      <td>0</td>\n",
       "    </tr>\n",
       "    <tr>\n",
       "      <th>9.812351e+07</th>\n",
       "      <td>69725</td>\n",
       "      <td>69725</td>\n",
       "      <td>69725</td>\n",
       "      <td>69725</td>\n",
       "      <td>69725</td>\n",
       "      <td>68850</td>\n",
       "      <td>69725</td>\n",
       "      <td>69725</td>\n",
       "      <td>0</td>\n",
       "    </tr>\n",
       "    <tr>\n",
       "      <th>9.847777e+07</th>\n",
       "      <td>57937</td>\n",
       "      <td>57934</td>\n",
       "      <td>57953</td>\n",
       "      <td>57953</td>\n",
       "      <td>57953</td>\n",
       "      <td>57382</td>\n",
       "      <td>57934</td>\n",
       "      <td>57953</td>\n",
       "      <td>0</td>\n",
       "    </tr>\n",
       "    <tr>\n",
       "      <th>1.018390e+09</th>\n",
       "      <td>57785</td>\n",
       "      <td>57785</td>\n",
       "      <td>57789</td>\n",
       "      <td>57789</td>\n",
       "      <td>57789</td>\n",
       "      <td>56089</td>\n",
       "      <td>57785</td>\n",
       "      <td>57789</td>\n",
       "      <td>0</td>\n",
       "    </tr>\n",
       "    <tr>\n",
       "      <th>9.809584e+07</th>\n",
       "      <td>38734</td>\n",
       "      <td>55148</td>\n",
       "      <td>55148</td>\n",
       "      <td>55148</td>\n",
       "      <td>55148</td>\n",
       "      <td>54517</td>\n",
       "      <td>55148</td>\n",
       "      <td>55148</td>\n",
       "      <td>0</td>\n",
       "    </tr>\n",
       "    <tr>\n",
       "      <th>1.741771e+09</th>\n",
       "      <td>48099</td>\n",
       "      <td>48099</td>\n",
       "      <td>48125</td>\n",
       "      <td>48125</td>\n",
       "      <td>48125</td>\n",
       "      <td>46507</td>\n",
       "      <td>48099</td>\n",
       "      <td>48125</td>\n",
       "      <td>39</td>\n",
       "    </tr>\n",
       "    <tr>\n",
       "      <th>1.699307e+09</th>\n",
       "      <td>45633</td>\n",
       "      <td>45633</td>\n",
       "      <td>45642</td>\n",
       "      <td>45642</td>\n",
       "      <td>45642</td>\n",
       "      <td>44020</td>\n",
       "      <td>45633</td>\n",
       "      <td>45642</td>\n",
       "      <td>43</td>\n",
       "    </tr>\n",
       "  </tbody>\n",
       "</table>\n",
       "</div>"
      ],
      "text/plain": [
       "                alliance_id  character_id  damage_done  final_blow  \\\n",
       "corporation_id                                                       \n",
       "9.838831e+07         349361        348949       349633      349633   \n",
       "9.855851e+07         264745        264741       264745      264745   \n",
       "3.544952e+08         179871        179698       179880      179880   \n",
       "9.837086e+07         102531        102530       102535      102535   \n",
       "9.812351e+07          69725         69725        69725       69725   \n",
       "9.847777e+07          57937         57934        57953       57953   \n",
       "1.018390e+09          57785         57785        57789       57789   \n",
       "9.809584e+07          38734         55148        55148       55148   \n",
       "1.741771e+09          48099         48099        48125       48125   \n",
       "1.699307e+09          45633         45633        45642       45642   \n",
       "\n",
       "                security_status  ship_type_id  weapon_type_id  killmail_id  \\\n",
       "corporation_id                                                               \n",
       "9.838831e+07             349633        345436          348949       349633   \n",
       "9.855851e+07             264745        262652          264741       264745   \n",
       "3.544952e+08             179880        177262          179698       179880   \n",
       "9.837086e+07             102535        100860          102530       102535   \n",
       "9.812351e+07              69725         68850           69725        69725   \n",
       "9.847777e+07              57953         57382           57934        57953   \n",
       "1.018390e+09              57789         56089           57785        57789   \n",
       "9.809584e+07              55148         54517           55148        55148   \n",
       "1.741771e+09              48125         46507           48099        48125   \n",
       "1.699307e+09              45642         44020           45633        45642   \n",
       "\n",
       "                faction_id  \n",
       "corporation_id              \n",
       "9.838831e+07             0  \n",
       "9.855851e+07             0  \n",
       "3.544952e+08             0  \n",
       "9.837086e+07             0  \n",
       "9.812351e+07             0  \n",
       "9.847777e+07             0  \n",
       "1.018390e+09             0  \n",
       "9.809584e+07             0  \n",
       "1.741771e+09            39  \n",
       "1.699307e+09            43  "
      ]
     },
     "execution_count": 112,
     "metadata": {},
     "output_type": "execute_result"
    }
   ],
   "source": [
    "df_attackerinfo.groupby('corporation_id').count().sort_values('character_id',ascending=False).head(10)"
   ]
  },
  {
   "cell_type": "code",
   "execution_count": null,
   "metadata": {},
   "outputs": [],
   "source": [
    "out_df = pd.DataFrame()\n",
    "for year in [2017,2018,2019]:\n",
    "    path = f'E:\\Data\\Eve-Online\\{year}war_RAID.csv'\n",
    "    df_ = pd.read_csv(path,index_col=0)\n",
    "    out_df = pd.concat([df_,out_df])\n",
    "    \n",
    "out_df.to_csv('E:\\Data\\Eve-Online\\ENCOUNTER.csv')"
   ]
  },
  {
   "cell_type": "code",
   "execution_count": 9,
   "metadata": {},
   "outputs": [],
   "source": [
    "_df = pd.read_csv('E:\\Data\\Eve-Online\\ENCOUNTER.csv',index_col=0)\n",
    "_df = _df.drop(columns=['allies'])"
   ]
  },
  {
   "cell_type": "code",
   "execution_count": 12,
   "metadata": {},
   "outputs": [],
   "source": [
    "_df.reset_index(drop=True).to_csv('E:\\Data\\Eve-Online\\ENCOUNTER.csv',index=False)"
   ]
  },
  {
   "cell_type": "markdown",
   "metadata": {},
   "source": [
    "### Items"
   ]
  },
  {
   "cell_type": "code",
   "execution_count": 25,
   "metadata": {},
   "outputs": [],
   "source": [
    "\n",
    "def df_slicer(df,nslice):\n",
    "    \"\"\"_summary_\n",
    "    divides a data frame into n equally distributed slices \n",
    "    Args:\n",
    "        df (pd.DataFrame): the data frame to be sliced \n",
    "        nslice (int): number of slices to be divied into \n",
    "\n",
    "    Returns:\n",
    "        [*pd.DataFrame]: a list of dataframes seperated into n slices\n",
    "    \"\"\"\n",
    "    from math import ceil\n",
    "    n_rows = df.shape[0]\n",
    "    scope = ceil(n_rows/nslice)\n",
    "    out = []\n",
    "    head = 0\n",
    "    tail = head + scope \n",
    "    while True:\n",
    "        #print(f'{head}->{tail}')\n",
    "        out.append(df[head:tail])\n",
    "        head = tail \n",
    "        tail = head + scope \n",
    "        if len(out) ==  nslice:\n",
    "            break\n",
    "    return out \n",
    "\n",
    "def set_ids(dct,killmail_id,victim_character_id):\n",
    "    dct['killmail_id'] = killmail_id\n",
    "    dct['victim.character_id'] = victim_character_id\n",
    "    return dct \n",
    "\n",
    "def flatten_js(item_sample,killmail_id,victim_character_id):\n",
    "    return pd.json_normalize(list(map(lambda x: set_ids(x,killmail_id,victim_character_id),eval(item_sample))))\n",
    "\n",
    "def FLAT_JS(df,hash,out_dct = None,target_column = 'victim.items'):\n",
    "    #out_df = pd.DataFrame()\n",
    "    for idx in tqdm.trange(df.shape[0]):\n",
    "        row = df.iloc[idx]\n",
    "        JS = row[target_column]\n",
    "        killmail_id = row['killmail_id']\n",
    "        victim_character_id = row['victim.character_id']\n",
    "        df_temp = flatten_js(JS,killmail_id,victim_character_id)\n",
    "        #out_df = pd.concat([out_df,df_temp])\n",
    "        df_temp.to_csv(f'E:\\Data\\Eve-Online\\ITEMs_csv\\item_{idx}.csv')\n",
    "    # if out_dct is None:\n",
    "    #     return out_df\n",
    "    # out_dct[hash] = out_df"
   ]
  },
  {
   "cell_type": "code",
   "execution_count": 6,
   "metadata": {},
   "outputs": [],
   "source": [
    "item_sample = df_wars['victim.items'].iloc[0]"
   ]
  },
  {
   "cell_type": "code",
   "execution_count": 26,
   "metadata": {},
   "outputs": [
    {
     "name": "stderr",
     "output_type": "stream",
     "text": [
      "100%|██████████| 837851/837851 [35:10<00:00, 396.94it/s]  \n"
     ]
    }
   ],
   "source": [
    "FLAT_JS(df_wars,'whatever')\n",
    "#df_items.to_csv('E:\\Data\\Eve-Online\\ITEMS.csv',index=False)"
   ]
  },
  {
   "cell_type": "code",
   "execution_count": 2,
   "metadata": {},
   "outputs": [],
   "source": [
    "file_names = os.listdir('E:\\Data\\Eve-Online\\ITEMs_csv')"
   ]
  },
  {
   "cell_type": "code",
   "execution_count": null,
   "metadata": {},
   "outputs": [],
   "source": [
    "df_ITEMS = pd.DataFrame()\n",
    "for name in tqdm.tqdm(file_names):\n",
    "    path = f'E:\\Data\\Eve-Online\\ITEMs_csv\\{name}'\n",
    "    df_ = pd.read_csv(path,index_col=0)\n",
    "    df_ITEMS = pd.concat([df_ITEMS,df_])"
   ]
  },
  {
   "cell_type": "code",
   "execution_count": 21,
   "metadata": {},
   "outputs": [],
   "source": [
    "file_names_rest = file_names[274924:]"
   ]
  },
  {
   "cell_type": "code",
   "execution_count": 22,
   "metadata": {},
   "outputs": [
    {
     "name": "stderr",
     "output_type": "stream",
     "text": [
      "  1%|          | 5000/562927 [00:09<18:00, 516.37it/s]\n",
      "  1%|          | 5000/557927 [00:10<19:16, 478.22it/s]\n",
      "  1%|          | 5000/552927 [00:09<17:11, 531.38it/s]\n",
      "  1%|          | 5000/547927 [00:09<16:54, 535.42it/s]\n",
      "  1%|          | 5000/542927 [00:10<17:56, 499.93it/s]\n",
      "  1%|          | 5000/537927 [00:09<17:14, 515.11it/s]\n",
      "  1%|          | 5000/532927 [00:10<18:29, 475.72it/s]\n",
      "  1%|          | 5000/527927 [00:10<18:20, 475.10it/s]\n",
      "  1%|          | 5000/522927 [00:09<15:34, 554.17it/s]\n",
      "  1%|          | 5000/517927 [00:10<17:26, 490.36it/s]\n",
      "  1%|          | 5000/512927 [00:09<16:28, 513.91it/s]\n",
      "  1%|          | 5000/507927 [00:09<15:42, 533.56it/s]\n",
      "  1%|          | 5000/502927 [00:09<16:07, 514.62it/s]\n",
      "  1%|          | 5000/497927 [00:09<15:43, 522.61it/s]\n",
      "  1%|          | 5000/492927 [00:11<18:33, 438.17it/s]\n",
      "  1%|          | 5000/487927 [00:10<17:41, 454.88it/s]\n",
      "  1%|          | 5000/482927 [00:10<17:05, 465.97it/s]\n",
      "  1%|          | 5000/477927 [00:11<17:36, 447.64it/s]\n",
      "  1%|          | 5000/472927 [00:10<16:45, 465.19it/s]\n",
      "  1%|          | 5000/467927 [00:10<16:35, 465.08it/s]\n",
      "  1%|          | 5000/462927 [00:10<16:06, 473.79it/s]\n",
      "  1%|          | 5000/457927 [00:11<16:55, 445.98it/s]\n",
      "  1%|          | 5000/452927 [00:10<16:18, 457.92it/s]\n",
      "  1%|          | 5000/447927 [00:11<16:24, 449.94it/s]\n",
      "  1%|          | 5000/442927 [00:11<16:16, 448.47it/s]\n",
      "  1%|          | 5000/437927 [00:11<15:57, 451.91it/s]\n",
      "  1%|          | 5000/432927 [00:10<15:08, 471.24it/s]\n",
      "  1%|          | 5000/427927 [00:11<15:45, 447.42it/s]\n",
      "  1%|          | 5000/422927 [00:10<15:03, 462.47it/s]\n",
      "  1%|          | 5000/417927 [00:10<14:41, 468.69it/s]\n",
      "  1%|          | 5000/412927 [00:11<15:24, 441.31it/s]\n",
      "  1%|          | 5000/407927 [00:10<13:25, 499.96it/s]\n",
      "  1%|          | 5000/402927 [00:09<12:18, 538.62it/s]\n",
      "  1%|▏         | 5000/397927 [00:10<13:17, 492.70it/s]\n",
      "  1%|▏         | 5000/392927 [00:11<15:06, 428.00it/s]\n",
      "  1%|▏         | 5000/387927 [00:11<14:36, 436.90it/s]\n",
      "  1%|▏         | 5000/382927 [00:11<14:03, 448.08it/s]\n",
      "  1%|▏         | 5000/377927 [00:10<13:36, 456.97it/s]\n",
      "  1%|▏         | 5000/372927 [00:10<13:01, 470.72it/s]\n",
      "  1%|▏         | 5000/367927 [00:11<13:31, 447.04it/s]\n",
      "  1%|▏         | 5000/362927 [00:11<13:42, 435.38it/s]\n",
      "  1%|▏         | 5000/357927 [00:10<12:41, 463.35it/s]\n",
      "  1%|▏         | 5000/352927 [00:11<13:31, 428.67it/s]\n",
      "  1%|▏         | 5000/347927 [00:11<13:11, 433.31it/s]\n",
      "  1%|▏         | 5000/342927 [00:14<15:54, 353.87it/s]\n",
      "  1%|▏         | 5000/337927 [00:11<12:52, 430.94it/s]\n",
      "  2%|▏         | 5000/332927 [00:11<12:12, 447.62it/s]\n",
      "  2%|▏         | 5000/327927 [00:12<12:58, 414.59it/s]\n",
      "  2%|▏         | 5000/322927 [00:11<11:58, 442.50it/s]\n",
      "  2%|▏         | 5000/317927 [00:12<13:22, 389.86it/s]\n",
      "  2%|▏         | 5000/312927 [00:12<13:02, 393.56it/s]\n",
      "  2%|▏         | 5000/307927 [00:11<11:59, 421.13it/s]\n",
      "  2%|▏         | 5000/302927 [00:11<11:18, 438.91it/s]\n",
      "  2%|▏         | 5000/297927 [00:11<11:24, 428.17it/s]\n",
      "  2%|▏         | 5000/292927 [00:11<11:19, 423.70it/s]\n",
      "  2%|▏         | 5000/287927 [00:11<10:43, 439.87it/s]\n",
      "  2%|▏         | 5000/282927 [00:11<10:40, 433.94it/s]\n",
      "  2%|▏         | 5000/277927 [00:11<10:35, 429.77it/s]\n",
      "  2%|▏         | 5000/272927 [00:11<10:23, 430.02it/s]\n",
      "  2%|▏         | 5000/267927 [00:10<09:17, 471.55it/s]\n",
      "  2%|▏         | 5000/262927 [00:12<10:22, 414.22it/s]\n",
      "  2%|▏         | 5000/257927 [00:12<10:08, 415.37it/s]\n",
      "  2%|▏         | 5000/252927 [00:10<08:48, 468.87it/s]\n",
      "  2%|▏         | 5000/247927 [00:11<09:32, 424.41it/s]\n",
      "  2%|▏         | 5000/242927 [00:13<10:41, 371.08it/s]\n",
      "  2%|▏         | 5000/237927 [00:11<08:53, 436.50it/s]\n",
      "  2%|▏         | 5000/232927 [00:11<09:02, 420.43it/s]\n",
      "  2%|▏         | 5000/227927 [00:11<08:54, 416.79it/s]\n",
      "  2%|▏         | 5000/222927 [00:12<09:09, 396.58it/s]\n",
      "  2%|▏         | 5000/217927 [00:11<08:22, 423.33it/s]\n",
      "  2%|▏         | 5000/212927 [00:11<08:15, 419.73it/s]\n",
      "  2%|▏         | 5000/207927 [00:12<08:38, 391.45it/s]\n",
      "  2%|▏         | 5000/202927 [00:12<07:55, 416.27it/s]\n",
      "  3%|▎         | 5000/197927 [00:11<07:16, 441.76it/s]\n",
      "  3%|▎         | 5000/192927 [00:12<07:42, 405.92it/s]\n",
      "  3%|▎         | 5000/187927 [00:10<06:36, 460.85it/s]\n",
      "  3%|▎         | 5000/182927 [00:11<06:51, 431.88it/s]\n",
      "  3%|▎         | 5000/177927 [00:14<08:14, 349.56it/s]\n",
      "  3%|▎         | 5000/172927 [00:12<07:10, 389.66it/s]\n",
      "  3%|▎         | 5000/167927 [00:12<07:03, 385.02it/s]\n",
      "  3%|▎         | 5000/162927 [00:11<06:12, 423.49it/s]\n",
      "  3%|▎         | 5000/157927 [00:11<06:02, 421.35it/s]\n",
      "  3%|▎         | 5000/152927 [00:12<06:03, 406.68it/s]\n",
      "  3%|▎         | 5000/147927 [00:12<05:53, 404.25it/s]\n",
      "  3%|▎         | 5000/142927 [00:12<05:51, 392.33it/s]\n",
      "  4%|▎         | 5000/137927 [00:11<05:18, 417.01it/s]\n",
      "  4%|▍         | 5000/132927 [00:11<04:46, 446.53it/s]\n",
      "  4%|▍         | 5000/127927 [00:11<04:50, 423.61it/s]\n",
      "  4%|▍         | 5000/122927 [00:12<04:49, 407.29it/s]\n",
      "  4%|▍         | 5000/117927 [00:12<04:42, 399.39it/s]\n",
      "  4%|▍         | 5000/112927 [00:12<04:29, 400.26it/s]\n",
      "  5%|▍         | 5000/107927 [00:12<04:15, 402.51it/s]\n",
      "  5%|▍         | 5000/102927 [00:13<04:23, 372.30it/s]\n",
      "  5%|▌         | 5000/97927 [00:12<03:57, 391.83it/s]\n",
      "  5%|▌         | 5000/92927 [00:12<03:44, 391.05it/s]\n",
      "  6%|▌         | 5000/87927 [00:12<03:28, 397.20it/s]\n",
      "  6%|▌         | 5000/82927 [00:12<03:09, 410.69it/s]\n",
      "  6%|▋         | 5000/77927 [00:11<02:54, 418.15it/s]\n",
      "  7%|▋         | 5000/72927 [00:11<02:34, 439.10it/s]\n",
      "  7%|▋         | 5000/67927 [00:12<02:42, 388.15it/s]\n",
      "  8%|▊         | 5000/62927 [00:12<02:21, 409.02it/s]\n",
      "  9%|▊         | 5000/57927 [00:10<01:54, 463.36it/s]\n",
      "  9%|▉         | 5000/52927 [00:10<01:42, 467.90it/s]\n",
      " 10%|█         | 5000/47927 [00:10<01:28, 485.51it/s]\n",
      " 12%|█▏        | 5000/42927 [00:10<01:22, 458.50it/s]\n",
      " 13%|█▎        | 5000/37927 [00:11<01:14, 443.46it/s]\n",
      " 15%|█▌        | 5000/32927 [00:10<00:58, 480.53it/s]\n",
      " 18%|█▊        | 5000/27927 [00:10<00:47, 478.97it/s]\n",
      " 22%|██▏       | 5000/22927 [00:10<00:38, 461.19it/s]\n",
      " 28%|██▊       | 5000/17927 [00:10<00:27, 477.90it/s]\n",
      " 39%|███▊      | 5000/12927 [00:10<00:16, 472.40it/s]\n",
      " 63%|██████▎   | 5000/7927 [00:09<00:05, 516.49it/s]\n",
      "100%|██████████| 2927/2927 [00:05<00:00, 518.74it/s]\n"
     ]
    }
   ],
   "source": [
    "#Outer Epoch\n",
    "shreshold = 5000\n",
    "n_file = 0\n",
    "while True:\n",
    "    counter = 0 \n",
    "    df_ITEMS = pd.DataFrame()\n",
    "    finished = True\n",
    "    for idx in tqdm.trange(len(file_names_rest)):\n",
    "        name = file_names_rest[idx]\n",
    "        counter+=1 \n",
    "        path = f'E:\\Data\\Eve-Online\\ITEMs_csv\\{name}'\n",
    "        df_ = pd.read_csv(path,index_col=0)\n",
    "        df_ITEMS = pd.concat([df_ITEMS,df_])\n",
    "        if counter > shreshold:\n",
    "            finished = False \n",
    "            break \n",
    "    n_file += 1 \n",
    "    df_ITEMS.to_csv(f'E:\\Data\\Eve-Online\\ITEMS_Agg\\item_agg_{n_file}.csv')\n",
    "    if finished:\n",
    "        break \n",
    "    file_names_rest = file_names_rest[idx:]\n",
    "        "
   ]
  },
  {
   "cell_type": "code",
   "execution_count": 23,
   "metadata": {},
   "outputs": [
    {
     "name": "stderr",
     "output_type": "stream",
     "text": [
      "  0%|          | 0/114 [00:00<?, ?it/s]C:\\Users\\18066\\AppData\\Local\\Temp\\ipykernel_31992\\2034501931.py:6: DtypeWarning: Columns (7) have mixed types. Specify dtype option on import or set low_memory=False.\n",
      "  df_ = pd.read_csv(path,index_col=0)\n",
      " 46%|████▌     | 52/114 [00:10<00:11,  5.24it/s]C:\\Users\\18066\\AppData\\Local\\Temp\\ipykernel_31992\\2034501931.py:6: DtypeWarning: Columns (8) have mixed types. Specify dtype option on import or set low_memory=False.\n",
      "  df_ = pd.read_csv(path,index_col=0)\n",
      " 53%|█████▎    | 60/114 [00:12<00:12,  4.26it/s]C:\\Users\\18066\\AppData\\Local\\Temp\\ipykernel_31992\\2034501931.py:6: DtypeWarning: Columns (8) have mixed types. Specify dtype option on import or set low_memory=False.\n",
      "  df_ = pd.read_csv(path,index_col=0)\n",
      " 55%|█████▌    | 63/114 [00:12<00:10,  4.64it/s]C:\\Users\\18066\\AppData\\Local\\Temp\\ipykernel_31992\\2034501931.py:6: DtypeWarning: Columns (8) have mixed types. Specify dtype option on import or set low_memory=False.\n",
      "  df_ = pd.read_csv(path,index_col=0)\n",
      " 56%|█████▌    | 64/114 [00:12<00:10,  4.55it/s]C:\\Users\\18066\\AppData\\Local\\Temp\\ipykernel_31992\\2034501931.py:6: DtypeWarning: Columns (8) have mixed types. Specify dtype option on import or set low_memory=False.\n",
      "  df_ = pd.read_csv(path,index_col=0)\n",
      " 69%|██████▉   | 79/114 [00:16<00:07,  4.40it/s]C:\\Users\\18066\\AppData\\Local\\Temp\\ipykernel_31992\\2034501931.py:6: DtypeWarning: Columns (8) have mixed types. Specify dtype option on import or set low_memory=False.\n",
      "  df_ = pd.read_csv(path,index_col=0)\n",
      " 71%|███████   | 81/114 [00:16<00:07,  4.31it/s]C:\\Users\\18066\\AppData\\Local\\Temp\\ipykernel_31992\\2034501931.py:6: DtypeWarning: Columns (8) have mixed types. Specify dtype option on import or set low_memory=False.\n",
      "  df_ = pd.read_csv(path,index_col=0)\n",
      " 80%|███████▉  | 91/114 [00:19<00:05,  3.98it/s]C:\\Users\\18066\\AppData\\Local\\Temp\\ipykernel_31992\\2034501931.py:6: DtypeWarning: Columns (8) have mixed types. Specify dtype option on import or set low_memory=False.\n",
      "  df_ = pd.read_csv(path,index_col=0)\n",
      " 82%|████████▏ | 93/114 [00:19<00:05,  3.70it/s]C:\\Users\\18066\\AppData\\Local\\Temp\\ipykernel_31992\\2034501931.py:6: DtypeWarning: Columns (8) have mixed types. Specify dtype option on import or set low_memory=False.\n",
      "  df_ = pd.read_csv(path,index_col=0)\n",
      " 82%|████████▏ | 94/114 [00:20<00:05,  3.68it/s]C:\\Users\\18066\\AppData\\Local\\Temp\\ipykernel_31992\\2034501931.py:6: DtypeWarning: Columns (8) have mixed types. Specify dtype option on import or set low_memory=False.\n",
      "  df_ = pd.read_csv(path,index_col=0)\n",
      " 84%|████████▍ | 96/114 [00:20<00:04,  3.83it/s]C:\\Users\\18066\\AppData\\Local\\Temp\\ipykernel_31992\\2034501931.py:6: DtypeWarning: Columns (8) have mixed types. Specify dtype option on import or set low_memory=False.\n",
      "  df_ = pd.read_csv(path,index_col=0)\n",
      "100%|██████████| 114/114 [00:25<00:00,  4.44it/s]\n"
     ]
    }
   ],
   "source": [
    "#Inner Epoch\n",
    "file_names_2 = os.listdir('E:\\Data\\Eve-Online\\ITEMS_Agg')\n",
    "df_ITEMS_final = pd.DataFrame()\n",
    "for name in tqdm.tqdm(file_names_2):\n",
    "    path = f'E:\\Data\\Eve-Online\\ITEMS_Agg\\{name}'\n",
    "    df_ = pd.read_csv(path,index_col=0)\n",
    "    df_ITEMS_final = pd.concat([df_ITEMS_final,df_])"
   ]
  },
  {
   "cell_type": "code",
   "execution_count": 37,
   "metadata": {},
   "outputs": [],
   "source": [
    "df_ITEMS_final = df_ITEMS_final.drop(columns=['items'],axis=1)"
   ]
  },
  {
   "cell_type": "code",
   "execution_count": 43,
   "metadata": {},
   "outputs": [],
   "source": [
    "df_ITEMS_final.reset_index(drop=True).to_csv('E:\\Data\\Eve-Online\\ITEMS_Agg_All.csv')"
   ]
  },
  {
   "cell_type": "code",
   "execution_count": 34,
   "metadata": {},
   "outputs": [
    {
     "data": {
      "text/plain": [
       "0"
      ]
     },
     "execution_count": 34,
     "metadata": {},
     "output_type": "execute_result"
    }
   ],
   "source": [
    "1*False"
   ]
  },
  {
   "cell_type": "code",
   "execution_count": 5,
   "metadata": {},
   "outputs": [
    {
     "data": {
      "text/plain": [
       "'item_347429.csv'"
      ]
     },
     "execution_count": 5,
     "metadata": {},
     "output_type": "execute_result"
    }
   ],
   "source": [
    "name"
   ]
  },
  {
   "cell_type": "code",
   "execution_count": 6,
   "metadata": {},
   "outputs": [],
   "source": [
    "df_ITEMS.to_csv('E:\\Data\\Eve-Online\\ITEMS.csv',index=False)"
   ]
  },
  {
   "cell_type": "code",
   "execution_count": 4,
   "metadata": {},
   "outputs": [],
   "source": [
    "df_sample = df_wars.head(1000)\n",
    "out_dct = dict()\n",
    "n_jobs = 4\n",
    "\n",
    "threads = []\n",
    "hash_id = 0\n",
    "for df_slice in df_slicer(df_sample,n_jobs):\n",
    "    hash_id +=1 \n",
    "    threads.append(Process(target=FLAT_JS, args=(df_slice,hash_id)))"
   ]
  },
  {
   "cell_type": "code",
   "execution_count": 50,
   "metadata": {},
   "outputs": [],
   "source": [
    "#Fianlly,remove item & attacker from war data\n",
    "df_wars = df_wars.drop(['attackers','victim.items'],axis=1).reset_index(drop=True)\n",
    "df_wars.to_csv('E:\\\\Data\\\\Eve-Online\\\\WARS.csv',index=False)"
   ]
  },
  {
   "cell_type": "markdown",
   "metadata": {},
   "source": [
    "### Feature Eng (attackers):\n",
    "1. Num of attackers \n",
    "2. attacker.corporation_id\n",
    "3. attacker.final_blow_attacker_id\n",
    "4. attacker.total_damage_delt \n",
    "5. attacker.average_security_status"
   ]
  }
 ],
 "metadata": {
  "interpreter": {
   "hash": "51a7bf737bf6718c23aa77cd2d8731d550543385b29b1ef866b66571bc75d835"
  },
  "kernelspec": {
   "display_name": "Python 3.8.0 ('msca')",
   "language": "python",
   "name": "python3"
  },
  "language_info": {
   "codemirror_mode": {
    "name": "ipython",
    "version": 3
   },
   "file_extension": ".py",
   "mimetype": "text/x-python",
   "name": "python",
   "nbconvert_exporter": "python",
   "pygments_lexer": "ipython3",
   "version": "3.8.0"
  },
  "orig_nbformat": 4
 },
 "nbformat": 4,
 "nbformat_minor": 2
}
